{
 "cells": [
  {
   "cell_type": "markdown",
   "id": "d2eb119e",
   "metadata": {},
   "source": [
    "# 📊 Sales Analysis Project\n",
    "Analyzing real sales data to extract insights about sales trends, product performance, and regional activity."
   ]
  },
  {
   "cell_type": "code",
   "execution_count": null,
   "id": "c214ebf7",
   "metadata": {},
   "outputs": [],
   "source": [
    "import pandas as pd\n",
    "import matplotlib.pyplot as plt\n",
    "import seaborn as sns\n",
    "\n",
    "# Load dataset\n",
    "df = pd.read_csv('../data/sales_data.csv')  # Update if path differs\n",
    "df.head()"
   ]
  },
  {
   "cell_type": "code",
   "execution_count": null,
   "id": "daea734a",
   "metadata": {},
   "outputs": [],
   "source": [
    "# Convert 'Order Date' to datetime\n",
    "df['Order Date'] = pd.to_datetime(df['Order Date'])\n",
    "\n",
    "# View data types and nulls\n",
    "df.info()\n",
    "df.isnull().sum()"
   ]
  },
  {
   "cell_type": "markdown",
   "id": "d75dc757",
   "metadata": {},
   "source": [
    "## 📅 Monthly Sales Trend"
   ]
  },
  {
   "cell_type": "code",
   "execution_count": null,
   "id": "79191415",
   "metadata": {},
   "outputs": [],
   "source": [
    "monthly_sales = df.groupby('Month')['Sales'].sum().reset_index()\n",
    "\n",
    "plt.figure(figsize=(10,6))\n",
    "sns.barplot(x='Month', y='Sales', data=monthly_sales, palette='Blues_d')\n",
    "plt.title('Total Sales per Month')\n",
    "plt.xlabel('Month')\n",
    "plt.ylabel('Sales ($)')\n",
    "plt.grid(True)\n",
    "plt.tight_layout()\n",
    "plt.show()"
   ]
  },
  {
   "cell_type": "markdown",
   "id": "1211bd72",
   "metadata": {},
   "source": [
    "## 🏆 Top-Selling Products"
   ]
  },
  {
   "cell_type": "code",
   "execution_count": null,
   "id": "1ede03d9",
   "metadata": {},
   "outputs": [],
   "source": [
    "top_products = df.groupby('Product')['Sales'].sum().sort_values(ascending=False).head(10)\n",
    "\n",
    "plt.figure(figsize=(10,6))\n",
    "sns.barplot(x=top_products.values, y=top_products.index, palette='viridis')\n",
    "plt.title('Top 10 Products by Sales')\n",
    "plt.xlabel('Total Sales ($)')\n",
    "plt.ylabel('Product')\n",
    "plt.tight_layout()\n",
    "plt.show()"
   ]
  },
  {
   "cell_type": "markdown",
   "id": "62401b3b",
   "metadata": {},
   "source": [
    "## 🌆 Sales by City"
   ]
  },
  {
   "cell_type": "code",
   "execution_count": null,
   "id": "08e87d79",
   "metadata": {},
   "outputs": [],
   "source": [
    "city_sales = df.groupby('City')['Sales'].sum().sort_values(ascending=False)\n",
    "\n",
    "plt.figure(figsize=(10,6))\n",
    "sns.barplot(x=city_sales.index, y=city_sales.values, palette='coolwarm')\n",
    "plt.title('Sales by City')\n",
    "plt.xlabel('City')\n",
    "plt.ylabel('Total Sales ($)')\n",
    "plt.xticks(rotation=45)\n",
    "plt.tight_layout()\n",
    "plt.show()"
   ]
  },
  {
   "cell_type": "markdown",
   "id": "5250edd1",
   "metadata": {},
   "source": [
    "## ⏰ Sales by Hour"
   ]
  },
  {
   "cell_type": "code",
   "execution_count": null,
   "id": "6a2562e6",
   "metadata": {},
   "outputs": [],
   "source": [
    "hourly_sales = df.groupby('Hour')['Sales'].sum().reset_index()\n",
    "\n",
    "plt.figure(figsize=(10,6))\n",
    "sns.lineplot(x='Hour', y='Sales', data=hourly_sales, marker='o')\n",
    "plt.title('Sales by Hour of Day')\n",
    "plt.xlabel('Hour')\n",
    "plt.ylabel('Sales ($)')\n",
    "plt.grid(True)\n",
    "plt.tight_layout()\n",
    "plt.show()"
   ]
  },
  {
   "cell_type": "markdown",
   "id": "6dc9902f",
   "metadata": {},
   "source": [
    "## ✅ Summary\n",
    "- Peak sales occur in certain months and hours.\n",
    "- Certain products and cities generate more revenue.\n",
    "- Data can help plan inventory and promotions strategically."
   ]
  }
 ],
 "metadata": {},
 "nbformat": 4,
 "nbformat_minor": 5
}